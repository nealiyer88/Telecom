{
 "cells": [
  {
   "cell_type": "markdown",
   "metadata": {},
   "source": [
    "## SyriaTel Customer Churn\n",
    "\n",
    "### Project Overview\n",
    "The objective of this project is to develop a classification model that predicts whether a customer will churn (leave the service) based on various customer attributes. This is a binary classification problem where the target variable is whether the customer churned or not.\n"
   ]
  },
  {
   "cell_type": "markdown",
   "metadata": {},
   "source": [
    "### Business Problem\n",
    "Churn prediction is crucial for businesses as retaining customers is often more cost-effective than acquiring new ones. By accurately predicting customer churn, the business can take proactive measures to retain customers, thereby reducing churn rates and improving profitability."
   ]
  },
  {
   "cell_type": "markdown",
   "metadata": {},
   "source": [
    "### 2. Data Collection\n",
    "#### Dataset Selection\n",
    "\n",
    "We are using a telecom customer dataset for this project. The dataset contains information such as the customer's state, account length, area code, and various usage metrics like the number of customer service calls, total day minutes, etc.\n",
    "\n",
    "\n",
    "Number of features: 21 (after excluding 'phone number' and the target variable)\n",
    "\n",
    "#### Data Import and Initial Inspection\n",
    "\n",
    "Let's load the dataset and take a look at the first few rows to understand its structure."
   ]
  },
  {
   "cell_type": "code",
   "execution_count": 2,
   "metadata": {},
   "outputs": [
    {
     "data": {
      "text/html": [
       "<div>\n",
       "<style scoped>\n",
       "    .dataframe tbody tr th:only-of-type {\n",
       "        vertical-align: middle;\n",
       "    }\n",
       "\n",
       "    .dataframe tbody tr th {\n",
       "        vertical-align: top;\n",
       "    }\n",
       "\n",
       "    .dataframe thead th {\n",
       "        text-align: right;\n",
       "    }\n",
       "</style>\n",
       "<table border=\"1\" class=\"dataframe\">\n",
       "  <thead>\n",
       "    <tr style=\"text-align: right;\">\n",
       "      <th></th>\n",
       "      <th>state</th>\n",
       "      <th>account length</th>\n",
       "      <th>area code</th>\n",
       "      <th>phone number</th>\n",
       "      <th>international plan</th>\n",
       "      <th>voice mail plan</th>\n",
       "      <th>number vmail messages</th>\n",
       "      <th>total day minutes</th>\n",
       "      <th>total day calls</th>\n",
       "      <th>total day charge</th>\n",
       "      <th>...</th>\n",
       "      <th>total eve calls</th>\n",
       "      <th>total eve charge</th>\n",
       "      <th>total night minutes</th>\n",
       "      <th>total night calls</th>\n",
       "      <th>total night charge</th>\n",
       "      <th>total intl minutes</th>\n",
       "      <th>total intl calls</th>\n",
       "      <th>total intl charge</th>\n",
       "      <th>customer service calls</th>\n",
       "      <th>churn</th>\n",
       "    </tr>\n",
       "  </thead>\n",
       "  <tbody>\n",
       "    <tr>\n",
       "      <th>0</th>\n",
       "      <td>KS</td>\n",
       "      <td>128</td>\n",
       "      <td>415</td>\n",
       "      <td>382-4657</td>\n",
       "      <td>no</td>\n",
       "      <td>yes</td>\n",
       "      <td>25</td>\n",
       "      <td>265.1</td>\n",
       "      <td>110</td>\n",
       "      <td>45.07</td>\n",
       "      <td>...</td>\n",
       "      <td>99</td>\n",
       "      <td>16.78</td>\n",
       "      <td>244.7</td>\n",
       "      <td>91</td>\n",
       "      <td>11.01</td>\n",
       "      <td>10.0</td>\n",
       "      <td>3</td>\n",
       "      <td>2.70</td>\n",
       "      <td>1</td>\n",
       "      <td>False</td>\n",
       "    </tr>\n",
       "    <tr>\n",
       "      <th>1</th>\n",
       "      <td>OH</td>\n",
       "      <td>107</td>\n",
       "      <td>415</td>\n",
       "      <td>371-7191</td>\n",
       "      <td>no</td>\n",
       "      <td>yes</td>\n",
       "      <td>26</td>\n",
       "      <td>161.6</td>\n",
       "      <td>123</td>\n",
       "      <td>27.47</td>\n",
       "      <td>...</td>\n",
       "      <td>103</td>\n",
       "      <td>16.62</td>\n",
       "      <td>254.4</td>\n",
       "      <td>103</td>\n",
       "      <td>11.45</td>\n",
       "      <td>13.7</td>\n",
       "      <td>3</td>\n",
       "      <td>3.70</td>\n",
       "      <td>1</td>\n",
       "      <td>False</td>\n",
       "    </tr>\n",
       "    <tr>\n",
       "      <th>2</th>\n",
       "      <td>NJ</td>\n",
       "      <td>137</td>\n",
       "      <td>415</td>\n",
       "      <td>358-1921</td>\n",
       "      <td>no</td>\n",
       "      <td>no</td>\n",
       "      <td>0</td>\n",
       "      <td>243.4</td>\n",
       "      <td>114</td>\n",
       "      <td>41.38</td>\n",
       "      <td>...</td>\n",
       "      <td>110</td>\n",
       "      <td>10.30</td>\n",
       "      <td>162.6</td>\n",
       "      <td>104</td>\n",
       "      <td>7.32</td>\n",
       "      <td>12.2</td>\n",
       "      <td>5</td>\n",
       "      <td>3.29</td>\n",
       "      <td>0</td>\n",
       "      <td>False</td>\n",
       "    </tr>\n",
       "    <tr>\n",
       "      <th>3</th>\n",
       "      <td>OH</td>\n",
       "      <td>84</td>\n",
       "      <td>408</td>\n",
       "      <td>375-9999</td>\n",
       "      <td>yes</td>\n",
       "      <td>no</td>\n",
       "      <td>0</td>\n",
       "      <td>299.4</td>\n",
       "      <td>71</td>\n",
       "      <td>50.90</td>\n",
       "      <td>...</td>\n",
       "      <td>88</td>\n",
       "      <td>5.26</td>\n",
       "      <td>196.9</td>\n",
       "      <td>89</td>\n",
       "      <td>8.86</td>\n",
       "      <td>6.6</td>\n",
       "      <td>7</td>\n",
       "      <td>1.78</td>\n",
       "      <td>2</td>\n",
       "      <td>False</td>\n",
       "    </tr>\n",
       "    <tr>\n",
       "      <th>4</th>\n",
       "      <td>OK</td>\n",
       "      <td>75</td>\n",
       "      <td>415</td>\n",
       "      <td>330-6626</td>\n",
       "      <td>yes</td>\n",
       "      <td>no</td>\n",
       "      <td>0</td>\n",
       "      <td>166.7</td>\n",
       "      <td>113</td>\n",
       "      <td>28.34</td>\n",
       "      <td>...</td>\n",
       "      <td>122</td>\n",
       "      <td>12.61</td>\n",
       "      <td>186.9</td>\n",
       "      <td>121</td>\n",
       "      <td>8.41</td>\n",
       "      <td>10.1</td>\n",
       "      <td>3</td>\n",
       "      <td>2.73</td>\n",
       "      <td>3</td>\n",
       "      <td>False</td>\n",
       "    </tr>\n",
       "  </tbody>\n",
       "</table>\n",
       "<p>5 rows × 21 columns</p>\n",
       "</div>"
      ],
      "text/plain": [
       "  state  account length  area code phone number international plan  \\\n",
       "0    KS             128        415     382-4657                 no   \n",
       "1    OH             107        415     371-7191                 no   \n",
       "2    NJ             137        415     358-1921                 no   \n",
       "3    OH              84        408     375-9999                yes   \n",
       "4    OK              75        415     330-6626                yes   \n",
       "\n",
       "  voice mail plan  number vmail messages  total day minutes  total day calls  \\\n",
       "0             yes                     25              265.1              110   \n",
       "1             yes                     26              161.6              123   \n",
       "2              no                      0              243.4              114   \n",
       "3              no                      0              299.4               71   \n",
       "4              no                      0              166.7              113   \n",
       "\n",
       "   total day charge  ...  total eve calls  total eve charge  \\\n",
       "0             45.07  ...               99             16.78   \n",
       "1             27.47  ...              103             16.62   \n",
       "2             41.38  ...              110             10.30   \n",
       "3             50.90  ...               88              5.26   \n",
       "4             28.34  ...              122             12.61   \n",
       "\n",
       "   total night minutes  total night calls  total night charge  \\\n",
       "0                244.7                 91               11.01   \n",
       "1                254.4                103               11.45   \n",
       "2                162.6                104                7.32   \n",
       "3                196.9                 89                8.86   \n",
       "4                186.9                121                8.41   \n",
       "\n",
       "   total intl minutes  total intl calls  total intl charge  \\\n",
       "0                10.0                 3               2.70   \n",
       "1                13.7                 3               3.70   \n",
       "2                12.2                 5               3.29   \n",
       "3                 6.6                 7               1.78   \n",
       "4                10.1                 3               2.73   \n",
       "\n",
       "   customer service calls  churn  \n",
       "0                       1  False  \n",
       "1                       1  False  \n",
       "2                       0  False  \n",
       "3                       2  False  \n",
       "4                       3  False  \n",
       "\n",
       "[5 rows x 21 columns]"
      ]
     },
     "execution_count": 2,
     "metadata": {},
     "output_type": "execute_result"
    }
   ],
   "source": [
    "import os\n",
    "import pandas as pd\n",
    "\n",
    "# Define the path to the CSV file\n",
    "file_path = os.path.join('Data', 'bigml_59c28831336c6604c800002a.csv')\n",
    "\n",
    "# Load the CSV file\n",
    "data = pd.read_csv(file_path)\n",
    "\n",
    "# Display the first few rows of the data to inspect it\n",
    "data.head()\n"
   ]
  },
  {
   "cell_type": "markdown",
   "metadata": {},
   "source": [
    "### 3. Data Exploration and Preprocessing\n",
    "#### Exploratory Data Analysis (EDA)\n",
    "Before preprocessing, let's explore the target variable to understand the distribution of churned vs. non-churned customers."
   ]
  },
  {
   "cell_type": "code",
   "execution_count": 4,
   "metadata": {},
   "outputs": [
    {
     "data": {
      "image/png": "[encoded data removed]",
      "text/plain": [
       "<Figure size 640x480 with 1 Axes>"
      ]
     },
     "metadata": {},
     "output_type": "display_data"
    },
    {
     "data": {
      "image/png": "[encoded data removed]",
      "text/plain": [
       "<Figure size 640x480 with 1 Axes>"
      ]
     },
     "metadata": {},
     "output_type": "display_data"
    }
   ],
   "source": [
    "import matplotlib.pyplot as plt\n",
    "import seaborn as sns\n",
    "\n",
    "# Distribution of the target variable\n",
    "sns.countplot(x='churn', data=data)\n",
    "plt.title('Distribution of Churn')\n",
    "plt.show()\n",
    "\n",
    "# Visualize relationships between key features and the target variable\n",
    "sns.boxplot(x='churn', y='total day minutes', data=data)\n",
    "plt.title('Total Day Minutes vs. Churn')\n",
    "plt.show()\n"
   ]
  },
  {
   "cell_type": "markdown",
   "metadata": {},
   "source": [
    "### Data Cleaning and Preparation\n",
    "Now, we'll prepare the data for modeling. This involves handling missing values, encoding categorical variables, and scaling numerical features."
   ]
  },
  {
   "cell_type": "code",
   "execution_count": 5,
   "metadata": {},
   "outputs": [],
   "source": [
    "from sklearn.preprocessing import LabelEncoder\n",
    "\n",
    "# Encode the target variable 'churn'\n",
    "label_encoder = LabelEncoder()\n",
    "data['churn'] = label_encoder.fit_transform(data['churn'])\n",
    "\n",
    "# Define feature columns and target column\n",
    "X = data.drop(columns=['phone number', 'churn'])  # Dropping 'phone number' as it is likely not useful\n",
    "y = data['churn']\n",
    "\n",
    "# Handle categorical variables: 'state', 'international plan', 'voice mail plan'\n",
    "categorical_features = ['state', 'international plan', 'voice mail plan']\n",
    "numerical_features = X.columns.difference(categorical_features)\n"
   ]
  },
  {
   "cell_type": "markdown",
   "metadata": {},
   "source": [
    "### 4. Baseline Model Development\n",
    "\n",
    "#### Model Selection: \n",
    "We start with Logistic Regression, a simple and interpretable model that is a good starting point for binary classification problems. This model helps in understanding feature importance and is often effective in cases where the relationship between the features and the target is linear or approximately linear.\n",
    "\n",
    "#### Model Training: \n",
    "We split the data into training and testing sets, train the logistic regression model, and evaluate its performance."
   ]
  },
  {
   "cell_type": "code",
   "execution_count": 13,
   "metadata": {},
   "outputs": [
    {
     "data": {
      "text/html": [
       "<style>#sk-container-id-5 {color: black;}#sk-container-id-5 pre{padding: 0;}#sk-container-id-5 div.sk-toggleable {background-color: white;}#sk-container-id-5 label.sk-toggleable__label {cursor: pointer;display: block;width: 100%;margin-bottom: 0;padding: 0.3em;box-sizing: border-box;text-align: center;}#sk-container-id-5 label.sk-toggleable__label-arrow:before {content: \"▸\";float: left;margin-right: 0.25em;color: #696969;}#sk-container-id-5 label.sk-toggleable__label-arrow:hover:before {color: black;}#sk-container-id-5 div.sk-estimator:hover label.sk-toggleable__label-arrow:before {color: black;}#sk-container-id-5 div.sk-toggleable__content {max-height: 0;max-width: 0;overflow: hidden;text-align: left;background-color: #f0f8ff;}#sk-container-id-5 div.sk-toggleable__content pre {margin: 0.2em;color: black;border-radius: 0.25em;background-color: #f0f8ff;}#sk-container-id-5 input.sk-toggleable__control:checked~div.sk-toggleable__content {max-height: 200px;max-width: 100%;overflow: auto;}#sk-container-id-5 input.sk-toggleable__control:checked~label.sk-toggleable__label-arrow:before {content: \"▾\";}#sk-container-id-5 div.sk-estimator input.sk-toggleable__control:checked~label.sk-toggleable__label {background-color: #d4ebff;}#sk-container-id-5 div.sk-label input.sk-toggleable__control:checked~label.sk-toggleable__label {background-color: #d4ebff;}#sk-container-id-5 input.sk-hidden--visually {border: 0;clip: rect(1px 1px 1px 1px);clip: rect(1px, 1px, 1px, 1px);height: 1px;margin: -1px;overflow: hidden;padding: 0;position: absolute;width: 1px;}#sk-container-id-5 div.sk-estimator {font-family: monospace;background-color: #f0f8ff;border: 1px dotted black;border-radius: 0.25em;box-sizing: border-box;margin-bottom: 0.5em;}#sk-container-id-5 div.sk-estimator:hover {background-color: #d4ebff;}#sk-container-id-5 div.sk-parallel-item::after {content: \"\";width: 100%;border-bottom: 1px solid gray;flex-grow: 1;}#sk-container-id-5 div.sk-label:hover label.sk-toggleable__label {background-color: #d4ebff;}#sk-container-id-5 div.sk-serial::before {content: \"\";position: absolute;border-left: 1px solid gray;box-sizing: border-box;top: 0;bottom: 0;left: 50%;z-index: 0;}#sk-container-id-5 div.sk-serial {display: flex;flex-direction: column;align-items: center;background-color: white;padding-right: 0.2em;padding-left: 0.2em;position: relative;}#sk-container-id-5 div.sk-item {position: relative;z-index: 1;}#sk-container-id-5 div.sk-parallel {display: flex;align-items: stretch;justify-content: center;background-color: white;position: relative;}#sk-container-id-5 div.sk-item::before, #sk-container-id-5 div.sk-parallel-item::before {content: \"\";position: absolute;border-left: 1px solid gray;box-sizing: border-box;top: 0;bottom: 0;left: 50%;z-index: -1;}#sk-container-id-5 div.sk-parallel-item {display: flex;flex-direction: column;z-index: 1;position: relative;background-color: white;}#sk-container-id-5 div.sk-parallel-item:first-child::after {align-self: flex-end;width: 50%;}#sk-container-id-5 div.sk-parallel-item:last-child::after {align-self: flex-start;width: 50%;}#sk-container-id-5 div.sk-parallel-item:only-child::after {width: 0;}#sk-container-id-5 div.sk-dashed-wrapped {border: 1px dashed gray;margin: 0 0.4em 0.5em 0.4em;box-sizing: border-box;padding-bottom: 0.4em;background-color: white;}#sk-container-id-5 div.sk-label label {font-family: monospace;font-weight: bold;display: inline-block;line-height: 1.2em;}#sk-container-id-5 div.sk-label-container {text-align: center;}#sk-container-id-5 div.sk-container {/* jupyter's `normalize.less` sets `[hidden] { display: none; }` but bootstrap.min.css set `[hidden] { display: none !important; }` so we also need the `!important` here to be able to override the default hidden behavior on the sphinx rendered scikit-learn.org. See: https://github.com/scikit-learn/scikit-learn/issues/21755 */display: inline-block !important;position: relative;}#sk-container-id-5 div.sk-text-repr-fallback {display: none;}</style><div id=\"sk-container-id-5\" class=\"sk-top-container\"><div class=\"sk-text-repr-fallback\"><pre>Pipeline(steps=[(&#x27;preprocessor&#x27;,\n",
       "                 ColumnTransformer(transformers=[(&#x27;num&#x27;, StandardScaler(),\n",
       "                                                  Index([&#x27;account length&#x27;, &#x27;area code&#x27;, &#x27;customer service calls&#x27;,\n",
       "       &#x27;number vmail messages&#x27;, &#x27;total day calls&#x27;, &#x27;total day charge&#x27;,\n",
       "       &#x27;total day minutes&#x27;, &#x27;total eve calls&#x27;, &#x27;total eve charge&#x27;,\n",
       "       &#x27;total eve minutes&#x27;, &#x27;total intl calls&#x27;, &#x27;total intl charge&#x27;,\n",
       "       &#x27;total intl minutes&#x27;, &#x27;total night calls&#x27;, &#x27;total night charge&#x27;,\n",
       "       &#x27;total night minutes&#x27;],\n",
       "      dtype=&#x27;object&#x27;)),\n",
       "                                                 (&#x27;cat&#x27;,\n",
       "                                                  Pipeline(steps=[(&#x27;imputer&#x27;,\n",
       "                                                                   SimpleImputer(strategy=&#x27;most_frequent&#x27;)),\n",
       "                                                                  (&#x27;encoder&#x27;,\n",
       "                                                                   OneHotEncoder(handle_unknown=&#x27;ignore&#x27;))]),\n",
       "                                                  [&#x27;state&#x27;,\n",
       "                                                   &#x27;international plan&#x27;,\n",
       "                                                   &#x27;voice mail plan&#x27;])])),\n",
       "                (&#x27;classifier&#x27;,\n",
       "                 LogisticRegression(max_iter=1000, random_state=42))])</pre><b>In a Jupyter environment, please rerun this cell to show the HTML representation or trust the notebook. <br />On GitHub, the HTML representation is unable to render, please try loading this page with nbviewer.org.</b></div><div class=\"sk-container\" hidden><div class=\"sk-item sk-dashed-wrapped\"><div class=\"sk-label-container\"><div class=\"sk-label sk-toggleable\"><input class=\"sk-toggleable__control sk-hidden--visually\" id=\"sk-estimator-id-33\" type=\"checkbox\" ><label for=\"sk-estimator-id-33\" class=\"sk-toggleable__label sk-toggleable__label-arrow\">Pipeline</label><div class=\"sk-toggleable__content\"><pre>Pipeline(steps=[(&#x27;preprocessor&#x27;,\n",
       "                 ColumnTransformer(transformers=[(&#x27;num&#x27;, StandardScaler(),\n",
       "                                                  Index([&#x27;account length&#x27;, &#x27;area code&#x27;, &#x27;customer service calls&#x27;,\n",
       "       &#x27;number vmail messages&#x27;, &#x27;total day calls&#x27;, &#x27;total day charge&#x27;,\n",
       "       &#x27;total day minutes&#x27;, &#x27;total eve calls&#x27;, &#x27;total eve charge&#x27;,\n",
       "       &#x27;total eve minutes&#x27;, &#x27;total intl calls&#x27;, &#x27;total intl charge&#x27;,\n",
       "       &#x27;total intl minutes&#x27;, &#x27;total night calls&#x27;, &#x27;total night charge&#x27;,\n",
       "       &#x27;total night minutes&#x27;],\n",
       "      dtype=&#x27;object&#x27;)),\n",
       "                                                 (&#x27;cat&#x27;,\n",
       "                                                  Pipeline(steps=[(&#x27;imputer&#x27;,\n",
       "                                                                   SimpleImputer(strategy=&#x27;most_frequent&#x27;)),\n",
       "                                                                  (&#x27;encoder&#x27;,\n",
       "                                                                   OneHotEncoder(handle_unknown=&#x27;ignore&#x27;))]),\n",
       "                                                  [&#x27;state&#x27;,\n",
       "                                                   &#x27;international plan&#x27;,\n",
       "                                                   &#x27;voice mail plan&#x27;])])),\n",
       "                (&#x27;classifier&#x27;,\n",
       "                 LogisticRegression(max_iter=1000, random_state=42))])</pre></div></div></div><div class=\"sk-serial\"><div class=\"sk-item sk-dashed-wrapped\"><div class=\"sk-label-container\"><div class=\"sk-label sk-toggleable\"><input class=\"sk-toggleable__control sk-hidden--visually\" id=\"sk-estimator-id-34\" type=\"checkbox\" ><label for=\"sk-estimator-id-34\" class=\"sk-toggleable__label sk-toggleable__label-arrow\">preprocessor: ColumnTransformer</label><div class=\"sk-toggleable__content\"><pre>ColumnTransformer(transformers=[(&#x27;num&#x27;, StandardScaler(),\n",
       "                                 Index([&#x27;account length&#x27;, &#x27;area code&#x27;, &#x27;customer service calls&#x27;,\n",
       "       &#x27;number vmail messages&#x27;, &#x27;total day calls&#x27;, &#x27;total day charge&#x27;,\n",
       "       &#x27;total day minutes&#x27;, &#x27;total eve calls&#x27;, &#x27;total eve charge&#x27;,\n",
       "       &#x27;total eve minutes&#x27;, &#x27;total intl calls&#x27;, &#x27;total intl charge&#x27;,\n",
       "       &#x27;total intl minutes&#x27;, &#x27;total night calls&#x27;, &#x27;total night charge&#x27;,\n",
       "       &#x27;total night minutes&#x27;],\n",
       "      dtype=&#x27;object&#x27;)),\n",
       "                                (&#x27;cat&#x27;,\n",
       "                                 Pipeline(steps=[(&#x27;imputer&#x27;,\n",
       "                                                  SimpleImputer(strategy=&#x27;most_frequent&#x27;)),\n",
       "                                                 (&#x27;encoder&#x27;,\n",
       "                                                  OneHotEncoder(handle_unknown=&#x27;ignore&#x27;))]),\n",
       "                                 [&#x27;state&#x27;, &#x27;international plan&#x27;,\n",
       "                                  &#x27;voice mail plan&#x27;])])</pre></div></div></div><div class=\"sk-parallel\"><div class=\"sk-parallel-item\"><div class=\"sk-item\"><div class=\"sk-label-container\"><div class=\"sk-label sk-toggleable\"><input class=\"sk-toggleable__control sk-hidden--visually\" id=\"sk-estimator-id-35\" type=\"checkbox\" ><label for=\"sk-estimator-id-35\" class=\"sk-toggleable__label sk-toggleable__label-arrow\">num</label><div class=\"sk-toggleable__content\"><pre>Index([&#x27;account length&#x27;, &#x27;area code&#x27;, &#x27;customer service calls&#x27;,\n",
       "       &#x27;number vmail messages&#x27;, &#x27;total day calls&#x27;, &#x27;total day charge&#x27;,\n",
       "       &#x27;total day minutes&#x27;, &#x27;total eve calls&#x27;, &#x27;total eve charge&#x27;,\n",
       "       &#x27;total eve minutes&#x27;, &#x27;total intl calls&#x27;, &#x27;total intl charge&#x27;,\n",
       "       &#x27;total intl minutes&#x27;, &#x27;total night calls&#x27;, &#x27;total night charge&#x27;,\n",
       "       &#x27;total night minutes&#x27;],\n",
       "      dtype=&#x27;object&#x27;)</pre></div></div></div><div class=\"sk-serial\"><div class=\"sk-item\"><div class=\"sk-estimator sk-toggleable\"><input class=\"sk-toggleable__control sk-hidden--visually\" id=\"sk-estimator-id-36\" type=\"checkbox\" ><label for=\"sk-estimator-id-36\" class=\"sk-toggleable__label sk-toggleable__label-arrow\">StandardScaler</label><div class=\"sk-toggleable__content\"><pre>StandardScaler()</pre></div></div></div></div></div></div><div class=\"sk-parallel-item\"><div class=\"sk-item\"><div class=\"sk-label-container\"><div class=\"sk-label sk-toggleable\"><input class=\"sk-toggleable__control sk-hidden--visually\" id=\"sk-estimator-id-37\" type=\"checkbox\" ><label for=\"sk-estimator-id-37\" class=\"sk-toggleable__label sk-toggleable__label-arrow\">cat</label><div class=\"sk-toggleable__content\"><pre>[&#x27;state&#x27;, &#x27;international plan&#x27;, &#x27;voice mail plan&#x27;]</pre></div></div></div><div class=\"sk-serial\"><div class=\"sk-item\"><div class=\"sk-serial\"><div class=\"sk-item\"><div class=\"sk-estimator sk-toggleable\"><input class=\"sk-toggleable__control sk-hidden--visually\" id=\"sk-estimator-id-38\" type=\"checkbox\" ><label for=\"sk-estimator-id-38\" class=\"sk-toggleable__label sk-toggleable__label-arrow\">SimpleImputer</label><div class=\"sk-toggleable__content\"><pre>SimpleImputer(strategy=&#x27;most_frequent&#x27;)</pre></div></div></div><div class=\"sk-item\"><div class=\"sk-estimator sk-toggleable\"><input class=\"sk-toggleable__control sk-hidden--visually\" id=\"sk-estimator-id-39\" type=\"checkbox\" ><label for=\"sk-estimator-id-39\" class=\"sk-toggleable__label sk-toggleable__label-arrow\">OneHotEncoder</label><div class=\"sk-toggleable__content\"><pre>OneHotEncoder(handle_unknown=&#x27;ignore&#x27;)</pre></div></div></div></div></div></div></div></div></div></div><div class=\"sk-item\"><div class=\"sk-estimator sk-toggleable\"><input class=\"sk-toggleable__control sk-hidden--visually\" id=\"sk-estimator-id-40\" type=\"checkbox\" ><label for=\"sk-estimator-id-40\" class=\"sk-toggleable__label sk-toggleable__label-arrow\">LogisticRegression</label><div class=\"sk-toggleable__content\"><pre>LogisticRegression(max_iter=1000, random_state=42)</pre></div></div></div></div></div></div></div>"
      ],
      "text/plain": [
       "Pipeline(steps=[('preprocessor',\n",
       "                 ColumnTransformer(transformers=[('num', StandardScaler(),\n",
       "                                                  Index(['account length', 'area code', 'customer service calls',\n",
       "       'number vmail messages', 'total day calls', 'total day charge',\n",
       "       'total day minutes', 'total eve calls', 'total eve charge',\n",
       "       'total eve minutes', 'total intl calls', 'total intl charge',\n",
       "       'total intl minutes', 'total night calls', 'total night charge',\n",
       "       'total night minutes'],\n",
       "      dtype='object')),\n",
       "                                                 ('cat',\n",
       "                                                  Pipeline(steps=[('imputer',\n",
       "                                                                   SimpleImputer(strategy='most_frequent')),\n",
       "                                                                  ('encoder',\n",
       "                                                                   OneHotEncoder(handle_unknown='ignore'))]),\n",
       "                                                  ['state',\n",
       "                                                   'international plan',\n",
       "                                                   'voice mail plan'])])),\n",
       "                ('classifier',\n",
       "                 LogisticRegression(max_iter=1000, random_state=42))])"
      ]
     },
     "execution_count": 13,
     "metadata": {},
     "output_type": "execute_result"
    }
   ],
   "source": [
    "from sklearn.model_selection import train_test_split\n",
    "from sklearn.compose import ColumnTransformer\n",
    "from sklearn.pipeline import Pipeline\n",
    "from sklearn.impute import SimpleImputer\n",
    "from sklearn.linear_model import LogisticRegression\n",
    "from sklearn.metrics import classification_report, accuracy_score\n",
    "\n",
    "\n",
    "# Preprocessing pipelines\n",
    "preprocessor = ColumnTransformer(\n",
    "    transformers=[\n",
    "        ('num', StandardScaler(), numerical_features),\n",
    "        ('cat', Pipeline(steps=[\n",
    "            ('imputer', SimpleImputer(strategy='most_frequent')),\n",
    "            ('encoder', OneHotEncoder(handle_unknown='ignore'))\n",
    "        ]), categorical_features)\n",
    "    ])\n",
    "\n",
    "# Split data\n",
    "X_train, X_test, y_train, y_test = train_test_split(X, y, test_size=0.2, random_state=42, stratify=y)\n",
    "\n",
    "# Pipeline and model training\n",
    "baseline_model = Pipeline(steps=[\n",
    "    ('preprocessor', preprocessor),\n",
    "    ('classifier', LogisticRegression(max_iter=1000, random_state=42))\n",
    "])\n",
    "baseline_model.fit(X_train, y_train)\n"
   ]
  },
  {
   "cell_type": "markdown",
   "metadata": {},
   "source": [
    "### Model Evaluation\n",
    "Evaluate the baseline model's performance using classification metrics such as accuracy, precision, recall, and F1-score."
   ]
  },
  {
   "cell_type": "code",
   "execution_count": 14,
   "metadata": {},
   "outputs": [
    {
     "name": "stdout",
     "output_type": "stream",
     "text": [
      "Baseline Model Accuracy: 0.8605697151424287\n",
      "Baseline Model Classification Report:\n",
      "              precision    recall  f1-score   support\n",
      "\n",
      "    No Churn       0.88      0.96      0.92       570\n",
      "       Churn       0.54      0.26      0.35        97\n",
      "\n",
      "    accuracy                           0.86       667\n",
      "   macro avg       0.71      0.61      0.64       667\n",
      "weighted avg       0.83      0.86      0.84       667\n",
      "\n"
     ]
    }
   ],
   "source": [
    "y_pred_baseline = baseline_model.predict(X_test)\n",
    "baseline_accuracy = accuracy_score(y_test, y_pred_baseline)\n",
    "baseline_report = classification_report(y_test, y_pred_baseline, target_names=['No Churn', 'Churn'])\n",
    "\n",
    "print(f\"Baseline Model Accuracy: {baseline_accuracy}\")\n",
    "print(f\"Baseline Model Classification Report:\\n{baseline_report}\")\n"
   ]
  },
  {
   "cell_type": "markdown",
   "metadata": {},
   "source": [
    "### 5. Nonparametric Model Exploration\n",
    "#### Decision Tree Model: \n",
    "Next, we explore a Decision Tree model, which is a nonparametric model. Decision Trees do not assume any specific structure for the underlying data, making them flexible and capable of capturing non-linear relationships. Decision Trees can also handle categorical features natively without needing encoding.\n",
    "\n",
    "#### Model Training: \n",
    "We will train a Decision Tree model on the same dataset and evaluate its performance."
   ]
  },
  {
   "cell_type": "code",
   "execution_count": 10,
   "metadata": {},
   "outputs": [
    {
     "data": {
      "text/html": [
       "<style>#sk-container-id-3 {color: black;}#sk-container-id-3 pre{padding: 0;}#sk-container-id-3 div.sk-toggleable {background-color: white;}#sk-container-id-3 label.sk-toggleable__label {cursor: pointer;display: block;width: 100%;margin-bottom: 0;padding: 0.3em;box-sizing: border-box;text-align: center;}#sk-container-id-3 label.sk-toggleable__label-arrow:before {content: \"▸\";float: left;margin-right: 0.25em;color: #696969;}#sk-container-id-3 label.sk-toggleable__label-arrow:hover:before {color: black;}#sk-container-id-3 div.sk-estimator:hover label.sk-toggleable__label-arrow:before {color: black;}#sk-container-id-3 div.sk-toggleable__content {max-height: 0;max-width: 0;overflow: hidden;text-align: left;background-color: #f0f8ff;}#sk-container-id-3 div.sk-toggleable__content pre {margin: 0.2em;color: black;border-radius: 0.25em;background-color: #f0f8ff;}#sk-container-id-3 input.sk-toggleable__control:checked~div.sk-toggleable__content {max-height: 200px;max-width: 100%;overflow: auto;}#sk-container-id-3 input.sk-toggleable__control:checked~label.sk-toggleable__label-arrow:before {content: \"▾\";}#sk-container-id-3 div.sk-estimator input.sk-toggleable__control:checked~label.sk-toggleable__label {background-color: #d4ebff;}#sk-container-id-3 div.sk-label input.sk-toggleable__control:checked~label.sk-toggleable__label {background-color: #d4ebff;}#sk-container-id-3 input.sk-hidden--visually {border: 0;clip: rect(1px 1px 1px 1px);clip: rect(1px, 1px, 1px, 1px);height: 1px;margin: -1px;overflow: hidden;padding: 0;position: absolute;width: 1px;}#sk-container-id-3 div.sk-estimator {font-family: monospace;background-color: #f0f8ff;border: 1px dotted black;border-radius: 0.25em;box-sizing: border-box;margin-bottom: 0.5em;}#sk-container-id-3 div.sk-estimator:hover {background-color: #d4ebff;}#sk-container-id-3 div.sk-parallel-item::after {content: \"\";width: 100%;border-bottom: 1px solid gray;flex-grow: 1;}#sk-container-id-3 div.sk-label:hover label.sk-toggleable__label {background-color: #d4ebff;}#sk-container-id-3 div.sk-serial::before {content: \"\";position: absolute;border-left: 1px solid gray;box-sizing: border-box;top: 0;bottom: 0;left: 50%;z-index: 0;}#sk-container-id-3 div.sk-serial {display: flex;flex-direction: column;align-items: center;background-color: white;padding-right: 0.2em;padding-left: 0.2em;position: relative;}#sk-container-id-3 div.sk-item {position: relative;z-index: 1;}#sk-container-id-3 div.sk-parallel {display: flex;align-items: stretch;justify-content: center;background-color: white;position: relative;}#sk-container-id-3 div.sk-item::before, #sk-container-id-3 div.sk-parallel-item::before {content: \"\";position: absolute;border-left: 1px solid gray;box-sizing: border-box;top: 0;bottom: 0;left: 50%;z-index: -1;}#sk-container-id-3 div.sk-parallel-item {display: flex;flex-direction: column;z-index: 1;position: relative;background-color: white;}#sk-container-id-3 div.sk-parallel-item:first-child::after {align-self: flex-end;width: 50%;}#sk-container-id-3 div.sk-parallel-item:last-child::after {align-self: flex-start;width: 50%;}#sk-container-id-3 div.sk-parallel-item:only-child::after {width: 0;}#sk-container-id-3 div.sk-dashed-wrapped {border: 1px dashed gray;margin: 0 0.4em 0.5em 0.4em;box-sizing: border-box;padding-bottom: 0.4em;background-color: white;}#sk-container-id-3 div.sk-label label {font-family: monospace;font-weight: bold;display: inline-block;line-height: 1.2em;}#sk-container-id-3 div.sk-label-container {text-align: center;}#sk-container-id-3 div.sk-container {/* jupyter's `normalize.less` sets `[hidden] { display: none; }` but bootstrap.min.css set `[hidden] { display: none !important; }` so we also need the `!important` here to be able to override the default hidden behavior on the sphinx rendered scikit-learn.org. See: https://github.com/scikit-learn/scikit-learn/issues/21755 */display: inline-block !important;position: relative;}#sk-container-id-3 div.sk-text-repr-fallback {display: none;}</style><div id=\"sk-container-id-3\" class=\"sk-top-container\"><div class=\"sk-text-repr-fallback\"><pre>Pipeline(steps=[(&#x27;preprocessor&#x27;,\n",
       "                 ColumnTransformer(transformers=[(&#x27;num&#x27;, StandardScaler(),\n",
       "                                                  Index([&#x27;account length&#x27;, &#x27;area code&#x27;, &#x27;customer service calls&#x27;,\n",
       "       &#x27;number vmail messages&#x27;, &#x27;total day calls&#x27;, &#x27;total day charge&#x27;,\n",
       "       &#x27;total day minutes&#x27;, &#x27;total eve calls&#x27;, &#x27;total eve charge&#x27;,\n",
       "       &#x27;total eve minutes&#x27;, &#x27;total intl calls&#x27;, &#x27;total intl charge&#x27;,\n",
       "       &#x27;total intl minutes&#x27;, &#x27;total night calls&#x27;, &#x27;total night charge&#x27;,\n",
       "       &#x27;total night minutes&#x27;],\n",
       "      dtype=&#x27;object&#x27;)),\n",
       "                                                 (&#x27;cat&#x27;,\n",
       "                                                  Pipeline(steps=[(&#x27;imputer&#x27;,\n",
       "                                                                   SimpleImputer(strategy=&#x27;most_frequent&#x27;)),\n",
       "                                                                  (&#x27;encoder&#x27;,\n",
       "                                                                   OneHotEncoder(handle_unknown=&#x27;ignore&#x27;))]),\n",
       "                                                  [&#x27;state&#x27;,\n",
       "                                                   &#x27;international plan&#x27;,\n",
       "                                                   &#x27;voice mail plan&#x27;])])),\n",
       "                (&#x27;classifier&#x27;, DecisionTreeClassifier(random_state=42))])</pre><b>In a Jupyter environment, please rerun this cell to show the HTML representation or trust the notebook. <br />On GitHub, the HTML representation is unable to render, please try loading this page with nbviewer.org.</b></div><div class=\"sk-container\" hidden><div class=\"sk-item sk-dashed-wrapped\"><div class=\"sk-label-container\"><div class=\"sk-label sk-toggleable\"><input class=\"sk-toggleable__control sk-hidden--visually\" id=\"sk-estimator-id-17\" type=\"checkbox\" ><label for=\"sk-estimator-id-17\" class=\"sk-toggleable__label sk-toggleable__label-arrow\">Pipeline</label><div class=\"sk-toggleable__content\"><pre>Pipeline(steps=[(&#x27;preprocessor&#x27;,\n",
       "                 ColumnTransformer(transformers=[(&#x27;num&#x27;, StandardScaler(),\n",
       "                                                  Index([&#x27;account length&#x27;, &#x27;area code&#x27;, &#x27;customer service calls&#x27;,\n",
       "       &#x27;number vmail messages&#x27;, &#x27;total day calls&#x27;, &#x27;total day charge&#x27;,\n",
       "       &#x27;total day minutes&#x27;, &#x27;total eve calls&#x27;, &#x27;total eve charge&#x27;,\n",
       "       &#x27;total eve minutes&#x27;, &#x27;total intl calls&#x27;, &#x27;total intl charge&#x27;,\n",
       "       &#x27;total intl minutes&#x27;, &#x27;total night calls&#x27;, &#x27;total night charge&#x27;,\n",
       "       &#x27;total night minutes&#x27;],\n",
       "      dtype=&#x27;object&#x27;)),\n",
       "                                                 (&#x27;cat&#x27;,\n",
       "                                                  Pipeline(steps=[(&#x27;imputer&#x27;,\n",
       "                                                                   SimpleImputer(strategy=&#x27;most_frequent&#x27;)),\n",
       "                                                                  (&#x27;encoder&#x27;,\n",
       "                                                                   OneHotEncoder(handle_unknown=&#x27;ignore&#x27;))]),\n",
       "                                                  [&#x27;state&#x27;,\n",
       "                                                   &#x27;international plan&#x27;,\n",
       "                                                   &#x27;voice mail plan&#x27;])])),\n",
       "                (&#x27;classifier&#x27;, DecisionTreeClassifier(random_state=42))])</pre></div></div></div><div class=\"sk-serial\"><div class=\"sk-item sk-dashed-wrapped\"><div class=\"sk-label-container\"><div class=\"sk-label sk-toggleable\"><input class=\"sk-toggleable__control sk-hidden--visually\" id=\"sk-estimator-id-18\" type=\"checkbox\" ><label for=\"sk-estimator-id-18\" class=\"sk-toggleable__label sk-toggleable__label-arrow\">preprocessor: ColumnTransformer</label><div class=\"sk-toggleable__content\"><pre>ColumnTransformer(transformers=[(&#x27;num&#x27;, StandardScaler(),\n",
       "                                 Index([&#x27;account length&#x27;, &#x27;area code&#x27;, &#x27;customer service calls&#x27;,\n",
       "       &#x27;number vmail messages&#x27;, &#x27;total day calls&#x27;, &#x27;total day charge&#x27;,\n",
       "       &#x27;total day minutes&#x27;, &#x27;total eve calls&#x27;, &#x27;total eve charge&#x27;,\n",
       "       &#x27;total eve minutes&#x27;, &#x27;total intl calls&#x27;, &#x27;total intl charge&#x27;,\n",
       "       &#x27;total intl minutes&#x27;, &#x27;total night calls&#x27;, &#x27;total night charge&#x27;,\n",
       "       &#x27;total night minutes&#x27;],\n",
       "      dtype=&#x27;object&#x27;)),\n",
       "                                (&#x27;cat&#x27;,\n",
       "                                 Pipeline(steps=[(&#x27;imputer&#x27;,\n",
       "                                                  SimpleImputer(strategy=&#x27;most_frequent&#x27;)),\n",
       "                                                 (&#x27;encoder&#x27;,\n",
       "                                                  OneHotEncoder(handle_unknown=&#x27;ignore&#x27;))]),\n",
       "                                 [&#x27;state&#x27;, &#x27;international plan&#x27;,\n",
       "                                  &#x27;voice mail plan&#x27;])])</pre></div></div></div><div class=\"sk-parallel\"><div class=\"sk-parallel-item\"><div class=\"sk-item\"><div class=\"sk-label-container\"><div class=\"sk-label sk-toggleable\"><input class=\"sk-toggleable__control sk-hidden--visually\" id=\"sk-estimator-id-19\" type=\"checkbox\" ><label for=\"sk-estimator-id-19\" class=\"sk-toggleable__label sk-toggleable__label-arrow\">num</label><div class=\"sk-toggleable__content\"><pre>Index([&#x27;account length&#x27;, &#x27;area code&#x27;, &#x27;customer service calls&#x27;,\n",
       "       &#x27;number vmail messages&#x27;, &#x27;total day calls&#x27;, &#x27;total day charge&#x27;,\n",
       "       &#x27;total day minutes&#x27;, &#x27;total eve calls&#x27;, &#x27;total eve charge&#x27;,\n",
       "       &#x27;total eve minutes&#x27;, &#x27;total intl calls&#x27;, &#x27;total intl charge&#x27;,\n",
       "       &#x27;total intl minutes&#x27;, &#x27;total night calls&#x27;, &#x27;total night charge&#x27;,\n",
       "       &#x27;total night minutes&#x27;],\n",
       "      dtype=&#x27;object&#x27;)</pre></div></div></div><div class=\"sk-serial\"><div class=\"sk-item\"><div class=\"sk-estimator sk-toggleable\"><input class=\"sk-toggleable__control sk-hidden--visually\" id=\"sk-estimator-id-20\" type=\"checkbox\" ><label for=\"sk-estimator-id-20\" class=\"sk-toggleable__label sk-toggleable__label-arrow\">StandardScaler</label><div class=\"sk-toggleable__content\"><pre>StandardScaler()</pre></div></div></div></div></div></div><div class=\"sk-parallel-item\"><div class=\"sk-item\"><div class=\"sk-label-container\"><div class=\"sk-label sk-toggleable\"><input class=\"sk-toggleable__control sk-hidden--visually\" id=\"sk-estimator-id-21\" type=\"checkbox\" ><label for=\"sk-estimator-id-21\" class=\"sk-toggleable__label sk-toggleable__label-arrow\">cat</label><div class=\"sk-toggleable__content\"><pre>[&#x27;state&#x27;, &#x27;international plan&#x27;, &#x27;voice mail plan&#x27;]</pre></div></div></div><div class=\"sk-serial\"><div class=\"sk-item\"><div class=\"sk-serial\"><div class=\"sk-item\"><div class=\"sk-estimator sk-toggleable\"><input class=\"sk-toggleable__control sk-hidden--visually\" id=\"sk-estimator-id-22\" type=\"checkbox\" ><label for=\"sk-estimator-id-22\" class=\"sk-toggleable__label sk-toggleable__label-arrow\">SimpleImputer</label><div class=\"sk-toggleable__content\"><pre>SimpleImputer(strategy=&#x27;most_frequent&#x27;)</pre></div></div></div><div class=\"sk-item\"><div class=\"sk-estimator sk-toggleable\"><input class=\"sk-toggleable__control sk-hidden--visually\" id=\"sk-estimator-id-23\" type=\"checkbox\" ><label for=\"sk-estimator-id-23\" class=\"sk-toggleable__label sk-toggleable__label-arrow\">OneHotEncoder</label><div class=\"sk-toggleable__content\"><pre>OneHotEncoder(handle_unknown=&#x27;ignore&#x27;)</pre></div></div></div></div></div></div></div></div></div></div><div class=\"sk-item\"><div class=\"sk-estimator sk-toggleable\"><input class=\"sk-toggleable__control sk-hidden--visually\" id=\"sk-estimator-id-24\" type=\"checkbox\" ><label for=\"sk-estimator-id-24\" class=\"sk-toggleable__label sk-toggleable__label-arrow\">DecisionTreeClassifier</label><div class=\"sk-toggleable__content\"><pre>DecisionTreeClassifier(random_state=42)</pre></div></div></div></div></div></div></div>"
      ],
      "text/plain": [
       "Pipeline(steps=[('preprocessor',\n",
       "                 ColumnTransformer(transformers=[('num', StandardScaler(),\n",
       "                                                  Index(['account length', 'area code', 'customer service calls',\n",
       "       'number vmail messages', 'total day calls', 'total day charge',\n",
       "       'total day minutes', 'total eve calls', 'total eve charge',\n",
       "       'total eve minutes', 'total intl calls', 'total intl charge',\n",
       "       'total intl minutes', 'total night calls', 'total night charge',\n",
       "       'total night minutes'],\n",
       "      dtype='object')),\n",
       "                                                 ('cat',\n",
       "                                                  Pipeline(steps=[('imputer',\n",
       "                                                                   SimpleImputer(strategy='most_frequent')),\n",
       "                                                                  ('encoder',\n",
       "                                                                   OneHotEncoder(handle_unknown='ignore'))]),\n",
       "                                                  ['state',\n",
       "                                                   'international plan',\n",
       "                                                   'voice mail plan'])])),\n",
       "                ('classifier', DecisionTreeClassifier(random_state=42))])"
      ]
     },
     "execution_count": 10,
     "metadata": {},
     "output_type": "execute_result"
    }
   ],
   "source": [
    "from sklearn.tree import DecisionTreeClassifier\n",
    "\n",
    "# Pipeline and model training with Decision Tree\n",
    "tree_model = Pipeline(steps=[\n",
    "    ('preprocessor', preprocessor),\n",
    "    ('classifier', DecisionTreeClassifier(random_state=42))\n",
    "])\n",
    "tree_model.fit(X_train, y_train)\n"
   ]
  },
  {
   "cell_type": "markdown",
   "metadata": {},
   "source": [
    "#### Model Evaluation: \n",
    "Evaluate the Decision Tree model using the same metrics.\n",
    "\n"
   ]
  },
  {
   "cell_type": "code",
   "execution_count": 11,
   "metadata": {},
   "outputs": [
    {
     "name": "stdout",
     "output_type": "stream",
     "text": [
      "Decision Tree Model Accuracy: 0.908\n",
      "Decision Tree Model Classification Report:\n",
      "              precision    recall  f1-score   support\n",
      "\n",
      "    No Churn       0.95      0.94      0.95       855\n",
      "       Churn       0.68      0.70      0.69       145\n",
      "\n",
      "    accuracy                           0.91      1000\n",
      "   macro avg       0.81      0.82      0.82      1000\n",
      "weighted avg       0.91      0.91      0.91      1000\n",
      "\n"
     ]
    }
   ],
   "source": [
    "y_pred_tree = tree_model.predict(X_test)\n",
    "tree_accuracy = accuracy_score(y_test, y_pred_tree)\n",
    "tree_report = classification_report(y_test, y_pred_tree, target_names=['No Churn', 'Churn'])\n",
    "\n",
    "print(f\"Decision Tree Model Accuracy: {tree_accuracy}\")\n",
    "print(f\"Decision Tree Model Classification Report:\\n{tree_report}\")\n"
   ]
  },
  {
   "cell_type": "markdown",
   "metadata": {},
   "source": [
    "### Comparison Between Logistic Regression and Decision Tree:\n",
    "\n",
    "#### Interpretability: \n",
    "Logistic Regression is more interpretable as it provides clear coefficients for each feature, showing their direct impact on the target variable. Decision Trees, on the other hand, are less interpretable, especially as the depth of the tree increases.\n",
    "\n",
    "#### Handling Non-Linearity: \n",
    "Decision Trees can capture non-linear relationships between features, which Logistic Regression may miss unless feature engineering or interaction terms are added.\n",
    "\n",
    "#### Overfitting: \n",
    "Decision Trees are prone to overfitting, especially with deep trees, while Logistic Regression is less likely to overfit due to its linear nature. Regularization techniques can be applied to Logistic Regression to further control overfitting.\n",
    "\n",
    " Depending on the results, if the Decision Tree significantly outperforms Logistic Regression without overfitting (which can be assessed using techniques like cross-validation), it might be a better choice. However, if the tree is overfitting or not performing better, Logistic Regression might be preferable due to its simplicity and generalization ability."
   ]
  },
  {
   "cell_type": "markdown",
   "metadata": {},
   "source": [
    "### 6. Nonparametric Model Exploration: Random Forest\n",
    "\n",
    "#### Random Forest Model: \n",
    "A Random Forest is an ensemble method that builds multiple Decision Trees and combines their outputs to create a more robust and accurate prediction. This method tends to outperform single Decision Trees by reducing overfitting while capturing non-linear patterns.\n",
    "\n",
    "#### Model Training:\n",
    "We will first train a Random Forest using the entire set of features and then analyze the feature importance. Based on this analysis, we can retrain the model using only the most important features to see if accuracy improves."
   ]
  },
  {
   "cell_type": "code",
   "execution_count": 15,
   "metadata": {},
   "outputs": [
    {
     "data": {
      "text/html": [
       "<style>#sk-container-id-6 {color: black;}#sk-container-id-6 pre{padding: 0;}#sk-container-id-6 div.sk-toggleable {background-color: white;}#sk-container-id-6 label.sk-toggleable__label {cursor: pointer;display: block;width: 100%;margin-bottom: 0;padding: 0.3em;box-sizing: border-box;text-align: center;}#sk-container-id-6 label.sk-toggleable__label-arrow:before {content: \"▸\";float: left;margin-right: 0.25em;color: #696969;}#sk-container-id-6 label.sk-toggleable__label-arrow:hover:before {color: black;}#sk-container-id-6 div.sk-estimator:hover label.sk-toggleable__label-arrow:before {color: black;}#sk-container-id-6 div.sk-toggleable__content {max-height: 0;max-width: 0;overflow: hidden;text-align: left;background-color: #f0f8ff;}#sk-container-id-6 div.sk-toggleable__content pre {margin: 0.2em;color: black;border-radius: 0.25em;background-color: #f0f8ff;}#sk-container-id-6 input.sk-toggleable__control:checked~div.sk-toggleable__content {max-height: 200px;max-width: 100%;overflow: auto;}#sk-container-id-6 input.sk-toggleable__control:checked~label.sk-toggleable__label-arrow:before {content: \"▾\";}#sk-container-id-6 div.sk-estimator input.sk-toggleable__control:checked~label.sk-toggleable__label {background-color: #d4ebff;}#sk-container-id-6 div.sk-label input.sk-toggleable__control:checked~label.sk-toggleable__label {background-color: #d4ebff;}#sk-container-id-6 input.sk-hidden--visually {border: 0;clip: rect(1px 1px 1px 1px);clip: rect(1px, 1px, 1px, 1px);height: 1px;margin: -1px;overflow: hidden;padding: 0;position: absolute;width: 1px;}#sk-container-id-6 div.sk-estimator {font-family: monospace;background-color: #f0f8ff;border: 1px dotted black;border-radius: 0.25em;box-sizing: border-box;margin-bottom: 0.5em;}#sk-container-id-6 div.sk-estimator:hover {background-color: #d4ebff;}#sk-container-id-6 div.sk-parallel-item::after {content: \"\";width: 100%;border-bottom: 1px solid gray;flex-grow: 1;}#sk-container-id-6 div.sk-label:hover label.sk-toggleable__label {background-color: #d4ebff;}#sk-container-id-6 div.sk-serial::before {content: \"\";position: absolute;border-left: 1px solid gray;box-sizing: border-box;top: 0;bottom: 0;left: 50%;z-index: 0;}#sk-container-id-6 div.sk-serial {display: flex;flex-direction: column;align-items: center;background-color: white;padding-right: 0.2em;padding-left: 0.2em;position: relative;}#sk-container-id-6 div.sk-item {position: relative;z-index: 1;}#sk-container-id-6 div.sk-parallel {display: flex;align-items: stretch;justify-content: center;background-color: white;position: relative;}#sk-container-id-6 div.sk-item::before, #sk-container-id-6 div.sk-parallel-item::before {content: \"\";position: absolute;border-left: 1px solid gray;box-sizing: border-box;top: 0;bottom: 0;left: 50%;z-index: -1;}#sk-container-id-6 div.sk-parallel-item {display: flex;flex-direction: column;z-index: 1;position: relative;background-color: white;}#sk-container-id-6 div.sk-parallel-item:first-child::after {align-self: flex-end;width: 50%;}#sk-container-id-6 div.sk-parallel-item:last-child::after {align-self: flex-start;width: 50%;}#sk-container-id-6 div.sk-parallel-item:only-child::after {width: 0;}#sk-container-id-6 div.sk-dashed-wrapped {border: 1px dashed gray;margin: 0 0.4em 0.5em 0.4em;box-sizing: border-box;padding-bottom: 0.4em;background-color: white;}#sk-container-id-6 div.sk-label label {font-family: monospace;font-weight: bold;display: inline-block;line-height: 1.2em;}#sk-container-id-6 div.sk-label-container {text-align: center;}#sk-container-id-6 div.sk-container {/* jupyter's `normalize.less` sets `[hidden] { display: none; }` but bootstrap.min.css set `[hidden] { display: none !important; }` so we also need the `!important` here to be able to override the default hidden behavior on the sphinx rendered scikit-learn.org. See: https://github.com/scikit-learn/scikit-learn/issues/21755 */display: inline-block !important;position: relative;}#sk-container-id-6 div.sk-text-repr-fallback {display: none;}</style><div id=\"sk-container-id-6\" class=\"sk-top-container\"><div class=\"sk-text-repr-fallback\"><pre>Pipeline(steps=[(&#x27;preprocessor&#x27;,\n",
       "                 ColumnTransformer(transformers=[(&#x27;num&#x27;, StandardScaler(),\n",
       "                                                  Index([&#x27;account length&#x27;, &#x27;area code&#x27;, &#x27;customer service calls&#x27;,\n",
       "       &#x27;number vmail messages&#x27;, &#x27;total day calls&#x27;, &#x27;total day charge&#x27;,\n",
       "       &#x27;total day minutes&#x27;, &#x27;total eve calls&#x27;, &#x27;total eve charge&#x27;,\n",
       "       &#x27;total eve minutes&#x27;, &#x27;total intl calls&#x27;, &#x27;total intl charge&#x27;,\n",
       "       &#x27;total intl minutes&#x27;, &#x27;total night calls&#x27;, &#x27;total night charge&#x27;,\n",
       "       &#x27;total night minutes&#x27;],\n",
       "      dtype=&#x27;object&#x27;)),\n",
       "                                                 (&#x27;cat&#x27;,\n",
       "                                                  Pipeline(steps=[(&#x27;imputer&#x27;,\n",
       "                                                                   SimpleImputer(strategy=&#x27;most_frequent&#x27;)),\n",
       "                                                                  (&#x27;encoder&#x27;,\n",
       "                                                                   OneHotEncoder(handle_unknown=&#x27;ignore&#x27;))]),\n",
       "                                                  [&#x27;state&#x27;,\n",
       "                                                   &#x27;international plan&#x27;,\n",
       "                                                   &#x27;voice mail plan&#x27;])])),\n",
       "                (&#x27;classifier&#x27;, RandomForestClassifier(random_state=42))])</pre><b>In a Jupyter environment, please rerun this cell to show the HTML representation or trust the notebook. <br />On GitHub, the HTML representation is unable to render, please try loading this page with nbviewer.org.</b></div><div class=\"sk-container\" hidden><div class=\"sk-item sk-dashed-wrapped\"><div class=\"sk-label-container\"><div class=\"sk-label sk-toggleable\"><input class=\"sk-toggleable__control sk-hidden--visually\" id=\"sk-estimator-id-41\" type=\"checkbox\" ><label for=\"sk-estimator-id-41\" class=\"sk-toggleable__label sk-toggleable__label-arrow\">Pipeline</label><div class=\"sk-toggleable__content\"><pre>Pipeline(steps=[(&#x27;preprocessor&#x27;,\n",
       "                 ColumnTransformer(transformers=[(&#x27;num&#x27;, StandardScaler(),\n",
       "                                                  Index([&#x27;account length&#x27;, &#x27;area code&#x27;, &#x27;customer service calls&#x27;,\n",
       "       &#x27;number vmail messages&#x27;, &#x27;total day calls&#x27;, &#x27;total day charge&#x27;,\n",
       "       &#x27;total day minutes&#x27;, &#x27;total eve calls&#x27;, &#x27;total eve charge&#x27;,\n",
       "       &#x27;total eve minutes&#x27;, &#x27;total intl calls&#x27;, &#x27;total intl charge&#x27;,\n",
       "       &#x27;total intl minutes&#x27;, &#x27;total night calls&#x27;, &#x27;total night charge&#x27;,\n",
       "       &#x27;total night minutes&#x27;],\n",
       "      dtype=&#x27;object&#x27;)),\n",
       "                                                 (&#x27;cat&#x27;,\n",
       "                                                  Pipeline(steps=[(&#x27;imputer&#x27;,\n",
       "                                                                   SimpleImputer(strategy=&#x27;most_frequent&#x27;)),\n",
       "                                                                  (&#x27;encoder&#x27;,\n",
       "                                                                   OneHotEncoder(handle_unknown=&#x27;ignore&#x27;))]),\n",
       "                                                  [&#x27;state&#x27;,\n",
       "                                                   &#x27;international plan&#x27;,\n",
       "                                                   &#x27;voice mail plan&#x27;])])),\n",
       "                (&#x27;classifier&#x27;, RandomForestClassifier(random_state=42))])</pre></div></div></div><div class=\"sk-serial\"><div class=\"sk-item sk-dashed-wrapped\"><div class=\"sk-label-container\"><div class=\"sk-label sk-toggleable\"><input class=\"sk-toggleable__control sk-hidden--visually\" id=\"sk-estimator-id-42\" type=\"checkbox\" ><label for=\"sk-estimator-id-42\" class=\"sk-toggleable__label sk-toggleable__label-arrow\">preprocessor: ColumnTransformer</label><div class=\"sk-toggleable__content\"><pre>ColumnTransformer(transformers=[(&#x27;num&#x27;, StandardScaler(),\n",
       "                                 Index([&#x27;account length&#x27;, &#x27;area code&#x27;, &#x27;customer service calls&#x27;,\n",
       "       &#x27;number vmail messages&#x27;, &#x27;total day calls&#x27;, &#x27;total day charge&#x27;,\n",
       "       &#x27;total day minutes&#x27;, &#x27;total eve calls&#x27;, &#x27;total eve charge&#x27;,\n",
       "       &#x27;total eve minutes&#x27;, &#x27;total intl calls&#x27;, &#x27;total intl charge&#x27;,\n",
       "       &#x27;total intl minutes&#x27;, &#x27;total night calls&#x27;, &#x27;total night charge&#x27;,\n",
       "       &#x27;total night minutes&#x27;],\n",
       "      dtype=&#x27;object&#x27;)),\n",
       "                                (&#x27;cat&#x27;,\n",
       "                                 Pipeline(steps=[(&#x27;imputer&#x27;,\n",
       "                                                  SimpleImputer(strategy=&#x27;most_frequent&#x27;)),\n",
       "                                                 (&#x27;encoder&#x27;,\n",
       "                                                  OneHotEncoder(handle_unknown=&#x27;ignore&#x27;))]),\n",
       "                                 [&#x27;state&#x27;, &#x27;international plan&#x27;,\n",
       "                                  &#x27;voice mail plan&#x27;])])</pre></div></div></div><div class=\"sk-parallel\"><div class=\"sk-parallel-item\"><div class=\"sk-item\"><div class=\"sk-label-container\"><div class=\"sk-label sk-toggleable\"><input class=\"sk-toggleable__control sk-hidden--visually\" id=\"sk-estimator-id-43\" type=\"checkbox\" ><label for=\"sk-estimator-id-43\" class=\"sk-toggleable__label sk-toggleable__label-arrow\">num</label><div class=\"sk-toggleable__content\"><pre>Index([&#x27;account length&#x27;, &#x27;area code&#x27;, &#x27;customer service calls&#x27;,\n",
       "       &#x27;number vmail messages&#x27;, &#x27;total day calls&#x27;, &#x27;total day charge&#x27;,\n",
       "       &#x27;total day minutes&#x27;, &#x27;total eve calls&#x27;, &#x27;total eve charge&#x27;,\n",
       "       &#x27;total eve minutes&#x27;, &#x27;total intl calls&#x27;, &#x27;total intl charge&#x27;,\n",
       "       &#x27;total intl minutes&#x27;, &#x27;total night calls&#x27;, &#x27;total night charge&#x27;,\n",
       "       &#x27;total night minutes&#x27;],\n",
       "      dtype=&#x27;object&#x27;)</pre></div></div></div><div class=\"sk-serial\"><div class=\"sk-item\"><div class=\"sk-estimator sk-toggleable\"><input class=\"sk-toggleable__control sk-hidden--visually\" id=\"sk-estimator-id-44\" type=\"checkbox\" ><label for=\"sk-estimator-id-44\" class=\"sk-toggleable__label sk-toggleable__label-arrow\">StandardScaler</label><div class=\"sk-toggleable__content\"><pre>StandardScaler()</pre></div></div></div></div></div></div><div class=\"sk-parallel-item\"><div class=\"sk-item\"><div class=\"sk-label-container\"><div class=\"sk-label sk-toggleable\"><input class=\"sk-toggleable__control sk-hidden--visually\" id=\"sk-estimator-id-45\" type=\"checkbox\" ><label for=\"sk-estimator-id-45\" class=\"sk-toggleable__label sk-toggleable__label-arrow\">cat</label><div class=\"sk-toggleable__content\"><pre>[&#x27;state&#x27;, &#x27;international plan&#x27;, &#x27;voice mail plan&#x27;]</pre></div></div></div><div class=\"sk-serial\"><div class=\"sk-item\"><div class=\"sk-serial\"><div class=\"sk-item\"><div class=\"sk-estimator sk-toggleable\"><input class=\"sk-toggleable__control sk-hidden--visually\" id=\"sk-estimator-id-46\" type=\"checkbox\" ><label for=\"sk-estimator-id-46\" class=\"sk-toggleable__label sk-toggleable__label-arrow\">SimpleImputer</label><div class=\"sk-toggleable__content\"><pre>SimpleImputer(strategy=&#x27;most_frequent&#x27;)</pre></div></div></div><div class=\"sk-item\"><div class=\"sk-estimator sk-toggleable\"><input class=\"sk-toggleable__control sk-hidden--visually\" id=\"sk-estimator-id-47\" type=\"checkbox\" ><label for=\"sk-estimator-id-47\" class=\"sk-toggleable__label sk-toggleable__label-arrow\">OneHotEncoder</label><div class=\"sk-toggleable__content\"><pre>OneHotEncoder(handle_unknown=&#x27;ignore&#x27;)</pre></div></div></div></div></div></div></div></div></div></div><div class=\"sk-item\"><div class=\"sk-estimator sk-toggleable\"><input class=\"sk-toggleable__control sk-hidden--visually\" id=\"sk-estimator-id-48\" type=\"checkbox\" ><label for=\"sk-estimator-id-48\" class=\"sk-toggleable__label sk-toggleable__label-arrow\">RandomForestClassifier</label><div class=\"sk-toggleable__content\"><pre>RandomForestClassifier(random_state=42)</pre></div></div></div></div></div></div></div>"
      ],
      "text/plain": [
       "Pipeline(steps=[('preprocessor',\n",
       "                 ColumnTransformer(transformers=[('num', StandardScaler(),\n",
       "                                                  Index(['account length', 'area code', 'customer service calls',\n",
       "       'number vmail messages', 'total day calls', 'total day charge',\n",
       "       'total day minutes', 'total eve calls', 'total eve charge',\n",
       "       'total eve minutes', 'total intl calls', 'total intl charge',\n",
       "       'total intl minutes', 'total night calls', 'total night charge',\n",
       "       'total night minutes'],\n",
       "      dtype='object')),\n",
       "                                                 ('cat',\n",
       "                                                  Pipeline(steps=[('imputer',\n",
       "                                                                   SimpleImputer(strategy='most_frequent')),\n",
       "                                                                  ('encoder',\n",
       "                                                                   OneHotEncoder(handle_unknown='ignore'))]),\n",
       "                                                  ['state',\n",
       "                                                   'international plan',\n",
       "                                                   'voice mail plan'])])),\n",
       "                ('classifier', RandomForestClassifier(random_state=42))])"
      ]
     },
     "execution_count": 15,
     "metadata": {},
     "output_type": "execute_result"
    }
   ],
   "source": [
    "from sklearn.ensemble import RandomForestClassifier\n",
    "\n",
    "# Pipeline and model training with Random Forest\n",
    "forest_model = Pipeline(steps=[\n",
    "    ('preprocessor', preprocessor),\n",
    "    ('classifier', RandomForestClassifier(random_state=42))\n",
    "])\n",
    "\n",
    "forest_model.fit(X_train, y_train)\n"
   ]
  },
  {
   "cell_type": "markdown",
   "metadata": {},
   "source": [
    "#### Model Evaluation:\n",
    "After training, we evaluate the Random Forest using the same metrics to compare its performance with Logistic Regression and Decision Tree models."
   ]
  },
  {
   "cell_type": "code",
   "execution_count": 16,
   "metadata": {},
   "outputs": [
    {
     "name": "stdout",
     "output_type": "stream",
     "text": [
      "Random Forest Model Accuracy: 0.9370314842578711\n",
      "Random Forest Model Classification Report:\n",
      "              precision    recall  f1-score   support\n",
      "\n",
      "    No Churn       0.94      0.99      0.96       570\n",
      "       Churn       0.91      0.63      0.74        97\n",
      "\n",
      "    accuracy                           0.94       667\n",
      "   macro avg       0.93      0.81      0.85       667\n",
      "weighted avg       0.94      0.94      0.93       667\n",
      "\n"
     ]
    }
   ],
   "source": [
    "y_pred_forest = forest_model.predict(X_test)\n",
    "forest_accuracy = accuracy_score(y_test, y_pred_forest)\n",
    "forest_report = classification_report(y_test, y_pred_forest, target_names=['No Churn', 'Churn'])\n",
    "\n",
    "print(f\"Random Forest Model Accuracy: {forest_accuracy}\")\n",
    "print(f\"Random Forest Model Classification Report:\\n{forest_report}\")\n"
   ]
  },
  {
   "cell_type": "markdown",
   "metadata": {},
   "source": [
    "#### Analyzing Feature Importance:\n",
    "We now extract the feature importance scores from the Random Forest model and visualize the top features. This helps in understanding which features had the most impact on the model’s decision-making process."
   ]
  },
  {
   "cell_type": "code",
   "execution_count": 17,
   "metadata": {},
   "outputs": [
    {
     "name": "stdout",
     "output_type": "stream",
     "text": [
      "Top 10 most important features:\n",
      "                   Feature  Importance\n",
      "5         total day charge    0.138037\n",
      "6        total day minutes    0.128742\n",
      "2   customer service calls    0.107534\n",
      "8         total eve charge    0.055784\n",
      "9        total eve minutes    0.053391\n",
      "10        total intl calls    0.045024\n",
      "11       total intl charge    0.043839\n",
      "12      total intl minutes    0.039535\n",
      "67   international plan_no    0.035531\n",
      "68  international plan_yes    0.035491\n"
     ]
    },
    {
     "data": {
      "image/png": "[encoded data removed]",
      "text/plain": [
       "<Figure size 1000x600 with 1 Axes>"
      ]
     },
     "metadata": {},
     "output_type": "display_data"
    }
   ],
   "source": [
    "\n",
    "import matplotlib.pyplot as plt\n",
    "\n",
    "# Get feature importances from the Random Forest model\n",
    "feature_importances = forest_model.named_steps['classifier'].feature_importances_\n",
    "\n",
    "# Get the feature names from the preprocessor\n",
    "categorical_feature_names = forest_model.named_steps['preprocessor'].transformers_[1][1].named_steps['encoder'].get_feature_names_out(categorical_features)\n",
    "all_feature_names = list(numerical_features) + list(categorical_feature_names)\n",
    "\n",
    "# Create a DataFrame to display feature importance\n",
    "feature_importance_df = pd.DataFrame({\n",
    "    'Feature': all_feature_names,\n",
    "    'Importance': feature_importances\n",
    "})\n",
    "\n",
    "# Sort by importance\n",
    "feature_importance_df = feature_importance_df.sort_values(by='Importance', ascending=False)\n",
    "\n",
    "# Display the top 10 most important features\n",
    "print(\"Top 10 most important features:\")\n",
    "print(feature_importance_df.head(10))\n",
    "\n",
    "# Plot feature importance\n",
    "plt.figure(figsize=(10, 6))\n",
    "plt.barh(feature_importance_df['Feature'].head(10), feature_importance_df['Importance'].head(10))\n",
    "plt.gca().invert_yaxis()\n",
    "plt.xlabel('Feature Importance')\n",
    "plt.title('Top 10 Most Important Features in Random Forest Model')\n",
    "plt.show()\n"
   ]
  },
  {
   "cell_type": "markdown",
   "metadata": {},
   "source": [
    "#### Feature Subset Selection:\n",
    "Based on the importance scores, we can select the top features that contributed the most to the model's performance. We'll retrain the Random Forest model using only these features and check if the accuracy improves."
   ]
  },
  {
   "cell_type": "markdown",
   "metadata": {},
   "source": [
    "Extract the Correct Transformed Feature Names:"
   ]
  },
  {
   "cell_type": "code",
   "execution_count": 21,
   "metadata": {},
   "outputs": [],
   "source": [
    "# Get the feature names from the preprocessor (numerical and one-hot-encoded categorical features)\n",
    "categorical_feature_names = forest_model.named_steps['preprocessor'].transformers_[1][1].named_steps['encoder'].get_feature_names_out(categorical_features)\n",
    "all_feature_names = list(numerical_features) + list(categorical_feature_names)\n",
    "\n",
    "# Extract the top 10 most important features from the preprocessed dataset\n",
    "top_features = feature_importance_df['Feature'].head(10).values\n",
    "\n",
    "# Ensure that top_features is correctly aligned with the preprocessed dataset columns\n",
    "X_train_top = pd.DataFrame(X_train, columns=all_feature_names)[top_features]\n",
    "X_test_top = pd.DataFrame(X_test, columns=all_feature_names)[top_features]\n"
   ]
  },
  {
   "cell_type": "markdown",
   "metadata": {},
   "source": [
    "We now apply the imputation only to the relevant columns, and ensure that the categorical features are handled correctly:"
   ]
  },
  {
   "cell_type": "code",
   "execution_count": 23,
   "metadata": {},
   "outputs": [
    {
     "name": "stdout",
     "output_type": "stream",
     "text": [
      "Available features after one-hot encoding and scaling:\n",
      " ['account length', 'area code', 'customer service calls', 'number vmail messages', 'total day calls', 'total day charge', 'total day minutes', 'total eve calls', 'total eve charge', 'total eve minutes', 'total intl calls', 'total intl charge', 'total intl minutes', 'total night calls', 'total night charge', 'total night minutes', 'state_AK', 'state_AL', 'state_AR', 'state_AZ', 'state_CA', 'state_CO', 'state_CT', 'state_DC', 'state_DE', 'state_FL', 'state_GA', 'state_HI', 'state_IA', 'state_ID', 'state_IL', 'state_IN', 'state_KS', 'state_KY', 'state_LA', 'state_MA', 'state_MD', 'state_ME', 'state_MI', 'state_MN', 'state_MO', 'state_MS', 'state_MT', 'state_NC', 'state_ND', 'state_NE', 'state_NH', 'state_NJ', 'state_NM', 'state_NV', 'state_NY', 'state_OH', 'state_OK', 'state_OR', 'state_PA', 'state_RI', 'state_SC', 'state_SD', 'state_TN', 'state_TX', 'state_UT', 'state_VA', 'state_VT', 'state_WA', 'state_WI', 'state_WV', 'state_WY', 'international plan_no', 'international plan_yes', 'voice mail plan_no', 'voice mail plan_yes']\n"
     ]
    }
   ],
   "source": [
    "# Display all available feature names in the transformed dataset to check for any mismatch\n",
    "print(\"Available features after one-hot encoding and scaling:\\n\", all_feature_names)\n"
   ]
  },
  {
   "cell_type": "code",
   "execution_count": 26,
   "metadata": {},
   "outputs": [
    {
     "name": "stdout",
     "output_type": "stream",
     "text": [
      "Valid Top Features: ['total day charge', 'total day minutes', 'customer service calls', 'total eve charge', 'total eve minutes', 'total intl calls', 'total intl charge', 'total intl minutes', 'international plan_no', 'international plan_yes']\n"
     ]
    }
   ],
   "source": [
    "# Ensure that top features exist in the transformed dataset's columns\n",
    "top_features = feature_importance_df['Feature'].head(10).values\n",
    "\n",
    "# Check if top_features exist in all_feature_names (the transformed dataset columns)\n",
    "valid_top_features = [feature for feature in top_features if feature in all_feature_names]\n",
    "\n",
    "# If the selected top features are correct, proceed with this subset of features\n",
    "print(\"Valid Top Features:\", valid_top_features)\n"
   ]
  },
  {
   "cell_type": "markdown",
   "metadata": {},
   "source": [
    "Subset the Data Using Valid Top Features:"
   ]
  },
  {
   "cell_type": "code",
   "execution_count": 27,
   "metadata": {},
   "outputs": [],
   "source": [
    "# Subset the training and test datasets to include only the valid top features\n",
    "X_train_top = pd.DataFrame(X_train, columns=all_feature_names)[valid_top_features]\n",
    "X_test_top = pd.DataFrame(X_test, columns=all_feature_names)[valid_top_features]\n"
   ]
  },
  {
   "cell_type": "markdown",
   "metadata": {},
   "source": [
    "Separate Numerical and Categorical Features:\n",
    "\n",
    "Since there are both numerical features (e.g., total day charge, total intl calls) and categorical features (international plan_no, international plan_yes), we'll handle them accordingly:"
   ]
  },
  {
   "cell_type": "code",
   "execution_count": 28,
   "metadata": {},
   "outputs": [],
   "source": [
    "# Separate numerical and categorical features\n",
    "top_numerical_features = ['total day charge', 'total day minutes', 'customer service calls', \n",
    "                          'total eve charge', 'total eve minutes', 'total intl calls', \n",
    "                          'total intl charge', 'total intl minutes']\n",
    "\n",
    "top_categorical_features = ['international plan_no', 'international plan_yes']\n"
   ]
  },
  {
   "cell_type": "markdown",
   "metadata": {},
   "source": [
    "Impute Missing Values for Numerical Features \n"
   ]
  },
  {
   "cell_type": "code",
   "execution_count": 36,
   "metadata": {},
   "outputs": [
    {
     "name": "stdout",
     "output_type": "stream",
     "text": [
      "No missing values found in numerical columns. Skipping imputation.\n"
     ]
    }
   ],
   "source": [
    "from sklearn.impute import SimpleImputer\n",
    "\n",
    "# Impute missing values for numerical features only\n",
    "top_numerical_features = ['total day charge', 'total day minutes', 'customer service calls', \n",
    "                          'total eve charge', 'total eve minutes', 'total intl calls', \n",
    "                          'total intl charge', 'total intl minutes']\n",
    "\n",
    "# Check for missing values in numerical columns\n",
    "missing_in_numerical = X_train_top[top_numerical_features].isnull().sum()\n",
    "\n",
    "if missing_in_numerical.sum() > 0:\n",
    "    print(f\"Missing values found in numerical columns: {missing_in_numerical}. Performing imputation.\")\n",
    "    \n",
    "    # Impute numerical features\n",
    "    numerical_imputer = SimpleImputer(strategy='mean')\n",
    "    X_train_top[top_numerical_features] = numerical_imputer.fit_transform(X_train_top[top_numerical_features])\n",
    "    X_test_top[top_numerical_features] = numerical_imputer.transform(X_test_top[top_numerical_features])\n",
    "else:\n",
    "    print(\"No missing values found in numerical columns. Skipping imputation.\")\n"
   ]
  },
  {
   "cell_type": "markdown",
   "metadata": {},
   "source": [
    "Check for Missing Values in the Entire Dataset"
   ]
  },
  {
   "cell_type": "code",
   "execution_count": 37,
   "metadata": {},
   "outputs": [
    {
     "name": "stdout",
     "output_type": "stream",
     "text": [
      "Missing values in X_train_top:\n",
      "total day charge             0\n",
      "total day minutes            0\n",
      "customer service calls       0\n",
      "total eve charge             0\n",
      "total eve minutes            0\n",
      "total intl calls             0\n",
      "total intl charge            0\n",
      "total intl minutes           0\n",
      "international plan_no     2666\n",
      "international plan_yes    2666\n",
      "dtype: int64\n",
      "Missing values in X_test_top:\n",
      "total day charge            0\n",
      "total day minutes           0\n",
      "customer service calls      0\n",
      "total eve charge            0\n",
      "total eve minutes           0\n",
      "total intl calls            0\n",
      "total intl charge           0\n",
      "total intl minutes          0\n",
      "international plan_no     667\n",
      "international plan_yes    667\n",
      "dtype: int64\n"
     ]
    }
   ],
   "source": [
    "# Check for any remaining missing values in the entire dataset\n",
    "print(\"Missing values in X_train_top:\")\n",
    "print(X_train_top.isnull().sum())\n",
    "\n",
    "print(\"Missing values in X_test_top:\")\n",
    "print(X_test_top.isnull().sum())\n"
   ]
  },
  {
   "cell_type": "markdown",
   "metadata": {},
   "source": [
    "Fill the NaNs in One-Hot Encoded Columns: Since international plan_no and international plan_yes are mutually exclusive (one will always be NaN when the other is 1), we can fill the missing values with 0, indicating that the particular plan is not applicable for that customer."
   ]
  },
  {
   "cell_type": "code",
   "execution_count": 38,
   "metadata": {},
   "outputs": [
    {
     "name": "stdout",
     "output_type": "stream",
     "text": [
      "Missing values in X_train_top after filling NaNs:\n",
      "total day charge          0\n",
      "total day minutes         0\n",
      "customer service calls    0\n",
      "total eve charge          0\n",
      "total eve minutes         0\n",
      "total intl calls          0\n",
      "total intl charge         0\n",
      "total intl minutes        0\n",
      "international plan_no     0\n",
      "international plan_yes    0\n",
      "dtype: int64\n",
      "Missing values in X_test_top after filling NaNs:\n",
      "total day charge          0\n",
      "total day minutes         0\n",
      "customer service calls    0\n",
      "total eve charge          0\n",
      "total eve minutes         0\n",
      "total intl calls          0\n",
      "total intl charge         0\n",
      "total intl minutes        0\n",
      "international plan_no     0\n",
      "international plan_yes    0\n",
      "dtype: int64\n"
     ]
    }
   ],
   "source": [
    "# Fill missing values in the one-hot encoded 'international plan' columns with 0\n",
    "X_train_top[['international plan_no', 'international plan_yes']] = X_train_top[['international plan_no', 'international plan_yes']].fillna(0)\n",
    "X_test_top[['international plan_no', 'international plan_yes']] = X_test_top[['international plan_no', 'international plan_yes']].fillna(0)\n",
    "\n",
    "# Verify the missing values are handled\n",
    "print(\"Missing values in X_train_top after filling NaNs:\")\n",
    "print(X_train_top.isnull().sum())\n",
    "\n",
    "print(\"Missing values in X_test_top after filling NaNs:\")\n",
    "print(X_test_top.isnull().sum())\n"
   ]
  },
  {
   "cell_type": "markdown",
   "metadata": {},
   "source": [
    "Train the new Random Forest Model:\n"
   ]
  },
  {
   "cell_type": "code",
   "execution_count": 39,
   "metadata": {},
   "outputs": [
    {
     "name": "stdout",
     "output_type": "stream",
     "text": [
      "Random Forest Model (Top Features) Accuracy: 0.896551724137931\n",
      "Random Forest Model (Top Features) Classification Report:\n",
      "              precision    recall  f1-score   support\n",
      "\n",
      "    No Churn       0.92      0.96      0.94       570\n",
      "       Churn       0.70      0.51      0.59        97\n",
      "\n",
      "    accuracy                           0.90       667\n",
      "   macro avg       0.81      0.73      0.76       667\n",
      "weighted avg       0.89      0.90      0.89       667\n",
      "\n"
     ]
    }
   ],
   "source": [
    "# Train the Random Forest model using the valid top features\n",
    "forest_model_top = RandomForestClassifier(random_state=42)\n",
    "forest_model_top.fit(X_train_top, y_train)\n",
    "\n",
    "# Predict on the test set\n",
    "y_pred_forest_top = forest_model_top.predict(X_test_top)\n",
    "\n",
    "# Evaluate the model's performance\n",
    "forest_accuracy_top = accuracy_score(y_test, y_pred_forest_top)\n",
    "forest_report_top = classification_report(y_test, y_pred_forest_top, target_names=['No Churn', 'Churn'])\n",
    "\n",
    "# Output the results\n",
    "print(f\"Random Forest Model (Top Features) Accuracy: {forest_accuracy_top}\")\n",
    "print(f\"Random Forest Model (Top Features) Classification Report:\\n{forest_report_top}\")\n"
   ]
  }
 ],
 "metadata": {
  "kernelspec": {
   "display_name": "base",
   "language": "python",
   "name": "python3"
  },
  "language_info": {
   "codemirror_mode": {
    "name": "ipython",
    "version": 3
   },
   "file_extension": ".py",
   "mimetype": "text/x-python",
   "name": "python",
   "nbconvert_exporter": "python",
   "pygments_lexer": "ipython3",
   "version": "3.11.4"
  }
 },
 "nbformat": 4,
 "nbformat_minor": 2
}
